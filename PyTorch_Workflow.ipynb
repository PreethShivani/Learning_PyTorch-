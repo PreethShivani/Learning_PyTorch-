{
  "nbformat": 4,
  "nbformat_minor": 0,
  "metadata": {
    "colab": {
      "provenance": []
    },
    "kernelspec": {
      "name": "python3",
      "display_name": "Python 3"
    },
    "language_info": {
      "name": "python"
    }
  },
  "cells": [
    {
      "cell_type": "code",
      "execution_count": null,
      "metadata": {
        "id": "COgfgYU_A7YX"
      },
      "outputs": [],
      "source": [
        "import torch\n",
        "from torch import nn\n",
        "import matplotlib.pyplot as plt"
      ]
    },
    {
      "cell_type": "code",
      "source": [
        "torch.__version__ # the version should always be more than 1.10"
      ],
      "metadata": {
        "colab": {
          "base_uri": "https://localhost:8080/",
          "height": 36
        },
        "id": "nKUVaMS_A-68",
        "outputId": "7fffa98c-566a-4bcd-d525-b948087400a7"
      },
      "execution_count": null,
      "outputs": [
        {
          "output_type": "execute_result",
          "data": {
            "text/plain": [
              "'2.6.0+cu124'"
            ],
            "application/vnd.google.colaboratory.intrinsic+json": {
              "type": "string"
            }
          },
          "metadata": {},
          "execution_count": 427
        }
      ]
    },
    {
      "cell_type": "code",
      "source": [
        "# Creating known parameters\n",
        "weight = 0.7\n",
        "bias = 0.3\n",
        "\n",
        "# Create a dataset\n",
        "start = 0\n",
        "end = 1\n",
        "step = 0.02\n",
        "X = torch.arange(start,end,step).unsqueeze(dim=1)\n",
        "y = weight * X + bias\n",
        "X[:10], y[:10]\n"
      ],
      "metadata": {
        "id": "HxRSA9GIA-9j",
        "colab": {
          "base_uri": "https://localhost:8080/"
        },
        "outputId": "98b4cc09-2cae-47f7-9e61-5d3a925754eb"
      },
      "execution_count": null,
      "outputs": [
        {
          "output_type": "execute_result",
          "data": {
            "text/plain": [
              "(tensor([[0.0000],\n",
              "         [0.0200],\n",
              "         [0.0400],\n",
              "         [0.0600],\n",
              "         [0.0800],\n",
              "         [0.1000],\n",
              "         [0.1200],\n",
              "         [0.1400],\n",
              "         [0.1600],\n",
              "         [0.1800]]),\n",
              " tensor([[0.3000],\n",
              "         [0.3140],\n",
              "         [0.3280],\n",
              "         [0.3420],\n",
              "         [0.3560],\n",
              "         [0.3700],\n",
              "         [0.3840],\n",
              "         [0.3980],\n",
              "         [0.4120],\n",
              "         [0.4260]]))"
            ]
          },
          "metadata": {},
          "execution_count": 428
        }
      ]
    },
    {
      "cell_type": "code",
      "source": [
        "len(X),len(y)"
      ],
      "metadata": {
        "id": "CJX5mQauA_AL",
        "colab": {
          "base_uri": "https://localhost:8080/"
        },
        "outputId": "cd78f1ba-7a1e-4c83-fd0d-5b3e54d6d112"
      },
      "execution_count": null,
      "outputs": [
        {
          "output_type": "execute_result",
          "data": {
            "text/plain": [
              "(50, 50)"
            ]
          },
          "metadata": {},
          "execution_count": 429
        }
      ]
    },
    {
      "cell_type": "code",
      "source": [
        "# Splitting data into training and test sets (most important concept in ML)\n",
        "train_split = int(0.8* len(X))\n",
        "X_train,y_train = X[:train_split],y[:train_split]\n",
        "X_test,y_test = X[train_split:],y[train_split:]\n",
        "\n",
        "len(X_train),len(y_train),len(X_test),len(y_test)"
      ],
      "metadata": {
        "colab": {
          "base_uri": "https://localhost:8080/"
        },
        "id": "idRhlCfa_ceR",
        "outputId": "952da5f6-868d-4b95-a77a-a313d0556f22"
      },
      "execution_count": null,
      "outputs": [
        {
          "output_type": "execute_result",
          "data": {
            "text/plain": [
              "(40, 40, 10, 10)"
            ]
          },
          "metadata": {},
          "execution_count": 430
        }
      ]
    },
    {
      "cell_type": "markdown",
      "source": [
        "**We should always  VISUALIZE,VISUALIZE,VISUALIZE !**\n",
        "\n"
      ],
      "metadata": {
        "id": "tGyvOMZ_DeYT"
      }
    },
    {
      "cell_type": "code",
      "source": [
        "def plot_predictions(train_data = X_train,\n",
        "                     train_labels=y_train,\n",
        "                     test_data=X_test,\n",
        "                     test_labels=y_test,\n",
        "                     predictions= None):\n",
        "\n",
        "# Plot the training data in blue\n",
        "    plt.scatter(train_data,train_labels,c='b',s=10, label='Training Data')\n",
        "\n",
        "# Plot the testing data in green\n",
        "    plt.scatter(test_data,test_labels,c='g',s=10, label='Testing Data')\n",
        "\n",
        "# If there is prediction then plot it\n",
        "    if predictions is not None:\n",
        "        plt.scatter(test_data,predictions,c='r',s=10,label='Predictions')\n",
        "    plt.legend();"
      ],
      "metadata": {
        "id": "QWcPTXcO_chE"
      },
      "execution_count": null,
      "outputs": []
    },
    {
      "cell_type": "code",
      "source": [
        "# Function call\n",
        "plot_predictions()"
      ],
      "metadata": {
        "colab": {
          "base_uri": "https://localhost:8080/",
          "height": 430
        },
        "id": "IFbYiJd6_clp",
        "outputId": "edc53af3-20f3-489d-f57c-0618b66e722f"
      },
      "execution_count": null,
      "outputs": [
        {
          "output_type": "display_data",
          "data": {
            "text/plain": [
              "<Figure size 640x480 with 1 Axes>"
            ],
            "image/png": "[encoded data removed]"
          },
          "metadata": {}
        }
      ]
    },
    {
      "cell_type": "markdown",
      "source": [
        "**Forward method**\n",
        "\n",
        " If you use nn.Module, you almost always define a forward method.\n",
        "It’s the core method that tells PyTorch what your model does when it receives input\n",
        "\n",
        "**Type hint**\n",
        "\n",
        "**SYNTAX**\n",
        "\n",
        "def function_name(...) -> return_type:\n",
        "\n",
        "*def forward(self, x: torch.Tensor) -> torch.Tensor:*\n",
        "\n",
        " It’s a way to tell Python what kind of data a variable is expected to have.\n",
        "\n"
      ],
      "metadata": {
        "id": "OJzp6E6X9v96"
      }
    },
    {
      "cell_type": "code",
      "source": [
        "from torch import nn\n",
        "\n",
        "# Create Linear regression model class\n",
        "\n",
        "class LinearRegressionModel(nn.Module):  # Almost evrerything from PyTorch inherits from nn.Module\n",
        "  def __init__(self):\n",
        "    super().__init__()\n",
        "    self.weights = nn.Parameter(torch.randn(1,                   # starts with random number, thats why randn\n",
        "                                            requires_grad=True,  # Updates the parameter with Gradient descent\n",
        "                                           dtype=torch.float))  # coz PyTorch loves float datatype\n",
        "    self.bias = nn.Parameter(torch.randn(1,\n",
        "                                            requires_grad=True,\n",
        "                                            dtype=torch.float))\n",
        "    # Forward method to define computation in the model\n",
        "  def forward(self, x: torch.Tensor) -> torch.Tensor:  # x is the inpu data and we are telling it to be in data type - Tensor\n",
        "       return self.weights*x + self.bias # Linear regression formula\n"
      ],
      "metadata": {
        "id": "NDAJD5ZwA_C3"
      },
      "execution_count": null,
      "outputs": []
    },
    {
      "cell_type": "markdown",
      "source": [
        "**PyTorch model building essentials**\n",
        "\n",
        "* torch.nn - contains all of the buildings for computational graphs (a neural network can be considered a computational graph)\n",
        "\n",
        "* torch.nn.Parameter - what parameters should our model try and learn, often a PyTorch layer from torch.nn will set these for us\n",
        "\n",
        "* torch.nn.Module - The base class for all neural network modules, if you subclass it, you should overwrite forward()\n",
        "\n",
        "* torch.optim - this is where the optimizers in PyTorch live, they will help with gradient descent\n",
        "\n",
        "* def forward() - All nn.Module subclasses require you to overwrite forward(), this method defines what happens in the forward computation\n",
        "\n",
        "  See more of these essential modules via the PyTorch cheatsheet – https://pytorch.org/tutorials/beginner/ptcheat.html"
      ],
      "metadata": {
        "id": "lU1xLx-zmqEt"
      }
    },
    {
      "cell_type": "code",
      "source": [
        "# Creating a random seed\n",
        "torch.manual_seed(42)\n",
        "\n",
        "# Create an instance of the model (subclass of nn.module)\n",
        "model_0 = LinearRegressionModel()\n",
        "\n",
        "# Check out the parameters\n",
        "list(model_0.parameters())"
      ],
      "metadata": {
        "id": "CbOGSJKUA_KV",
        "colab": {
          "base_uri": "https://localhost:8080/"
        },
        "outputId": "1d1f903c-53bd-4365-a3ae-5c534489e325"
      },
      "execution_count": null,
      "outputs": [
        {
          "output_type": "execute_result",
          "data": {
            "text/plain": [
              "[Parameter containing:\n",
              " tensor([0.3367], requires_grad=True),\n",
              " Parameter containing:\n",
              " tensor([0.1288], requires_grad=True)]"
            ]
          },
          "metadata": {},
          "execution_count": 434
        }
      ]
    },
    {
      "cell_type": "markdown",
      "source": [
        "*model.state_dict()*\n",
        "  \n",
        "  Get all learnable parameters (weights, biases)"
      ],
      "metadata": {
        "id": "jTTQhKi7sYNT"
      }
    },
    {
      "cell_type": "code",
      "source": [
        "model_0.state_dict()"
      ],
      "metadata": {
        "colab": {
          "base_uri": "https://localhost:8080/"
        },
        "id": "Nv43pWq9rFU4",
        "outputId": "b0eed927-1973-4c54-8eb9-d2f20d01c077"
      },
      "execution_count": null,
      "outputs": [
        {
          "output_type": "execute_result",
          "data": {
            "text/plain": [
              "OrderedDict([('weights', tensor([0.3367])), ('bias', tensor([0.1288]))])"
            ]
          },
          "metadata": {},
          "execution_count": 435
        }
      ]
    },
    {
      "cell_type": "markdown",
      "source": [
        "Making Predictions using torch.inference_mode()\n",
        "\n",
        "To check our model's predictive power, let's see how well it predicts y_test based on x_test.\n",
        "\n",
        "When we pass data through our model, it's going to run it through forward() method.\n",
        "\n",
        "\n",
        "**with torch.inference_mode()**\n",
        "\n",
        "Tells PyTorch: We’re just making predictions. Don’t track gradients, don’t waste memory.”\n",
        "\n",
        "\n",
        "\n",
        "\n",
        "\n",
        "\n",
        "Why is this important?\n",
        "During training, PyTorch tracks all operations to calculate gradients.\n",
        "\n",
        "During inference (testing), you don’t need gradients — so turning it off:\n",
        "\n",
        "Saves memory\n",
        "\n",
        "Speeds things up"
      ],
      "metadata": {
        "id": "kACgXLnqslgq"
      }
    },
    {
      "cell_type": "code",
      "source": [
        "# make predictions with model\n",
        "with torch.inference_mode():\n",
        "   y_preds = model_0(X_test)\n",
        "\n",
        "#with torch.no_grad():   This also does he same as inference_mode but this is not preferred\n",
        "  #y_preds = model_0(X_test)\n",
        "y_preds"
      ],
      "metadata": {
        "id": "A2Jjqo7Dq_So",
        "colab": {
          "base_uri": "https://localhost:8080/"
        },
        "outputId": "3bcd2df0-5f48-42d9-e636-69e253b9d29e"
      },
      "execution_count": null,
      "outputs": [
        {
          "output_type": "execute_result",
          "data": {
            "text/plain": [
              "tensor([[0.3982],\n",
              "        [0.4049],\n",
              "        [0.4116],\n",
              "        [0.4184],\n",
              "        [0.4251],\n",
              "        [0.4318],\n",
              "        [0.4386],\n",
              "        [0.4453],\n",
              "        [0.4520],\n",
              "        [0.4588]])"
            ]
          },
          "metadata": {},
          "execution_count": 436
        }
      ]
    },
    {
      "cell_type": "code",
      "source": [
        "y_test"
      ],
      "metadata": {
        "colab": {
          "base_uri": "https://localhost:8080/"
        },
        "id": "kWsTtjXKtFKx",
        "outputId": "2e21f9d5-a004-4777-9b09-c322680b69f0"
      },
      "execution_count": null,
      "outputs": [
        {
          "output_type": "execute_result",
          "data": {
            "text/plain": [
              "tensor([[0.8600],\n",
              "        [0.8740],\n",
              "        [0.8880],\n",
              "        [0.9020],\n",
              "        [0.9160],\n",
              "        [0.9300],\n",
              "        [0.9440],\n",
              "        [0.9580],\n",
              "        [0.9720],\n",
              "        [0.9860]])"
            ]
          },
          "metadata": {},
          "execution_count": 437
        }
      ]
    },
    {
      "cell_type": "code",
      "source": [
        "plot_predictions(predictions=y_preds)"
      ],
      "metadata": {
        "id": "GVTUYktNq_V9",
        "colab": {
          "base_uri": "https://localhost:8080/",
          "height": 430
        },
        "outputId": "b437c18f-0d18-4244-c696-caf14cba5231"
      },
      "execution_count": null,
      "outputs": [
        {
          "output_type": "display_data",
          "data": {
            "text/plain": [
              "<Figure size 640x480 with 1 Axes>"
            ],
            "image/png": "[encoded data removed]"
          },
          "metadata": {}
        }
      ]
    },
    {
      "cell_type": "markdown",
      "source": [
        "This is a random prediction"
      ],
      "metadata": {
        "id": "d1o7ad6VwViK"
      }
    },
    {
      "cell_type": "markdown",
      "source": [
        "# Train model\n",
        "\n",
        "\n",
        "The whole idea of training is for a model to move from some unknown parameters (these may be random) to some known parameters.\n",
        "\n",
        "Or in other words from a poor representation of the data to a better representation of the data.\n",
        "\n",
        "One way to measure how poor or how wrong your model’s predictions are is to use a loss function.\n",
        "\n",
        "* Note: Loss function may also be called cost function or criterion in different areas. For our case, we’re going to refer to it as a loss function.\n",
        "\n",
        "Things we need to train:\n",
        "\n",
        "**Loss function:** A function to measure how wrong your model’s predictions are to the ideal outputs, lower is better.\n",
        "\n",
        "**Optimizer:** Takes into account the loss of a model and adjusts the model’s parameters (e.g. weight & bias in our case) to improve the loss function.\n",
        "\n",
        "And specifically for PyTorch, we need:\n",
        "\n",
        "*  A training loop\n",
        "*  A testing loop\n",
        "\n",
        "\n",
        "\n"
      ],
      "metadata": {
        "id": "X6cdUx_R2dGc"
      }
    },
    {
      "cell_type": "code",
      "source": [
        "model_0.state_dict()"
      ],
      "metadata": {
        "id": "vzFOoeIzA_NL",
        "colab": {
          "base_uri": "https://localhost:8080/"
        },
        "outputId": "1980352c-6d31-481b-bab3-94accd246bbf"
      },
      "execution_count": null,
      "outputs": [
        {
          "output_type": "execute_result",
          "data": {
            "text/plain": [
              "OrderedDict([('weights', tensor([0.3367])), ('bias', tensor([0.1288]))])"
            ]
          },
          "metadata": {},
          "execution_count": 439
        }
      ]
    },
    {
      "cell_type": "code",
      "source": [
        "list(model_0.parameters())"
      ],
      "metadata": {
        "id": "W7vFq8EwA_QP",
        "colab": {
          "base_uri": "https://localhost:8080/"
        },
        "outputId": "e57345b9-98c4-4f5d-fe01-e290cf7e4f53"
      },
      "execution_count": null,
      "outputs": [
        {
          "output_type": "execute_result",
          "data": {
            "text/plain": [
              "[Parameter containing:\n",
              " tensor([0.3367], requires_grad=True),\n",
              " Parameter containing:\n",
              " tensor([0.1288], requires_grad=True)]"
            ]
          },
          "metadata": {},
          "execution_count": 440
        }
      ]
    },
    {
      "cell_type": "code",
      "source": [
        "# Setup Loss function\n",
        "loss_fn = nn.L1Loss()\n",
        "\n",
        "# Setup an optimizer (Stochastic gradient descent)\n",
        "\n",
        "optimizer = torch.optim.SGD(params =model_0.parameters(),\n",
        "                            lr=0.01) # most important hyperparameter we will set and it should always be a small number\n"
      ],
      "metadata": {
        "id": "QYoWLy6_A_TA"
      },
      "execution_count": null,
      "outputs": []
    },
    {
      "cell_type": "markdown",
      "source": [
        "**Q :** Which loss function and optimizer should I use ?\n",
        "\n",
        "**A :**This knowledge can be gained only through practice and experience.\n",
        "Each problem might require different type of loss function and optimizer\n",
        "\n",
        "For example - For this regression problem we need **nn.L1Loss()** and **torch.optim.SGD()** is enough\n",
        "\n",
        "But for classification problem like classifying whether a photo is a dog or cat we need **nn.BCELoss()** -- Binary cross entropy loss"
      ],
      "metadata": {
        "id": "-mbpR3Ox8p6U"
      }
    },
    {
      "cell_type": "markdown",
      "source": [
        "### Building a training loop and a testing loop in PyTorch\n",
        "\n",
        "A couple of things we need for training loop :\n",
        "\n",
        "0. Loop through the data\n",
        "1. Forward pass - Using Model's Forward function - also called as  Forward Propagation\n",
        "2.Calculate the loss (Compare forward pass predictions to ground truth lables)\n",
        "3. Optimizer zero grad\n",
        "4.Loss backward - move backwards through the network to calculate the gradients of each of the parameters of our model with respect to the loss [**Back propagation**]\n",
        "5. Optimizer step - Use the Optimizer to adjust our model's paramters to try and improve the loss [**Gradient descent**]\n"
      ],
      "metadata": {
        "id": "JLWLnBVR-Vid"
      }
    },
    {
      "cell_type": "code",
      "source": [
        "torch.manual_seed(42)\n",
        "# An epoch is one loop through the data.. (This is hyperparamter coz we have set it)\n",
        "\n",
        "epochs = 50\n",
        "### Training\n",
        " # 0. Loop through the data\n",
        "for epoch in range(epochs):\n",
        "  # Set the model to training mode\n",
        "  model_0.train()  # train mode in PyTorch sets all parameters that require gradients to require gradients\n",
        "\n",
        "  # 1. Forward Pass\n",
        "  y_pred = model_0(X_train)\n",
        "\n",
        "  # 2.Calculate the loss\n",
        "  loss = loss_fn(y_pred,y_train)\n",
        "  print(f\"Loss value : {loss}\")\n",
        "  #3. Optimizer zero grad\n",
        "  optimizer.zero_grad()\n",
        "\n",
        "  # 4. Perform Back propagation on the loss with respect to the parameters of the model\n",
        "  loss.backward()\n",
        "\n",
        "  # 5.Step the optimizer (perform gradient descent)\n",
        "  optimizer.step() # By default how the optimizer changes will accumulate through the loop so... we have to zero them above in step 3 for the next iteration\n",
        "\n",
        "  ### Testing\n",
        "  model_0.eval() # Turns off gradients or gradient tracking\n",
        "\n"
      ],
      "metadata": {
        "id": "vfN-gB5JA_Yl",
        "colab": {
          "base_uri": "https://localhost:8080/"
        },
        "outputId": "c58e1864-e612-40e2-ebab-09758ece8b8d"
      },
      "execution_count": null,
      "outputs": [
        {
          "output_type": "stream",
          "name": "stdout",
          "text": [
            "Loss value : 0.31288138031959534\n",
            "Loss value : 0.3013603389263153\n",
            "Loss value : 0.28983935713768005\n",
            "Loss value : 0.2783183455467224\n",
            "Loss value : 0.26679736375808716\n",
            "Loss value : 0.2552763521671295\n",
            "Loss value : 0.24375534057617188\n",
            "Loss value : 0.23223432898521423\n",
            "Loss value : 0.22071333229541779\n",
            "Loss value : 0.20919232070446014\n",
            "Loss value : 0.1976713240146637\n",
            "Loss value : 0.18615034222602844\n",
            "Loss value : 0.1746293306350708\n",
            "Loss value : 0.16310831904411316\n",
            "Loss value : 0.1515873372554779\n",
            "Loss value : 0.14006635546684265\n",
            "Loss value : 0.1285453587770462\n",
            "Loss value : 0.11702437698841095\n",
            "Loss value : 0.1060912236571312\n",
            "Loss value : 0.09681284427642822\n",
            "Loss value : 0.08908725529909134\n",
            "Loss value : 0.08227583020925522\n",
            "Loss value : 0.07638873159885406\n",
            "Loss value : 0.07160007208585739\n",
            "Loss value : 0.06747635453939438\n",
            "Loss value : 0.06395438313484192\n",
            "Loss value : 0.06097004935145378\n",
            "Loss value : 0.05845819041132927\n",
            "Loss value : 0.05635259300470352\n",
            "Loss value : 0.0545857772231102\n",
            "Loss value : 0.053148526698350906\n",
            "Loss value : 0.05181945487856865\n",
            "Loss value : 0.05069301277399063\n",
            "Loss value : 0.0498228520154953\n",
            "Loss value : 0.04895269125699997\n",
            "Loss value : 0.04819351062178612\n",
            "Loss value : 0.047531817108392715\n",
            "Loss value : 0.04692792519927025\n",
            "Loss value : 0.04642331600189209\n",
            "Loss value : 0.04591871052980423\n",
            "Loss value : 0.04543796554207802\n",
            "Loss value : 0.04503796249628067\n",
            "Loss value : 0.04463795945048332\n",
            "Loss value : 0.04423796385526657\n",
            "Loss value : 0.04383796453475952\n",
            "Loss value : 0.04343796148896217\n",
            "Loss value : 0.043074630200862885\n",
            "Loss value : 0.04272563382983208\n",
            "Loss value : 0.04237663000822067\n",
            "Loss value : 0.04202762991189957\n"
          ]
        }
      ]
    },
    {
      "cell_type": "code",
      "source": [
        "model_0.state_dict()"
      ],
      "metadata": {
        "colab": {
          "base_uri": "https://localhost:8080/"
        },
        "id": "7juAMlMok7YR",
        "outputId": "abdd95ce-8b85-4784-d274-a064be154613"
      },
      "execution_count": null,
      "outputs": [
        {
          "output_type": "execute_result",
          "data": {
            "text/plain": [
              "OrderedDict([('weights', tensor([0.4920])), ('bias', tensor([0.3848]))])"
            ]
          },
          "metadata": {},
          "execution_count": 443
        }
      ]
    },
    {
      "cell_type": "markdown",
      "source": [
        "### Does train() actually train the model?\n",
        "No! It only tells the model:\n",
        "\n",
        "\"We're in training mode. Behave like you're training.\"\n",
        "\n",
        "\n",
        "\n",
        "In **eval() + inference_mode()**, gradients are disabled to save memory"
      ],
      "metadata": {
        "id": "w65V5IpRZ6K1"
      }
    },
    {
      "cell_type": "markdown",
      "source": [
        "### **Learning rate scheduler**\n",
        "\n",
        "The typical syntax for implementing a learning rate scheduler involves instantiating an optimizer and a scheduler, then stepping through epochs or batches, updating the learning rate accordingly. The versatility of the scheduler is reflected in its ability to accommodate various parameters, allowing practitioners to tailor its behavior to meet specific training requirements.\n",
        "\n",
        "### **Learning rate scheduler syntax**\n",
        "\n",
        "   #import torch.optim.lr_scheduler as lr_scheduler\n",
        "   #from torch.optim.lr_scheduler import StepLR\n",
        "\n",
        "   #optimizer = optim.SGD(model.parameters(), lr=0.1)\n",
        "   #scheduler = StepLR(optimizer, step_size=30, gamma=0.1)\n",
        "\n",
        "   #Training loop\n",
        "   #for epoch in range(num_epochs):\n",
        "   #train()\n",
        "   #scheduler.step()"
      ],
      "metadata": {
        "id": "rcqIS9zMha3x"
      }
    },
    {
      "cell_type": "code",
      "source": [
        "model_0.state_dict()"
      ],
      "metadata": {
        "colab": {
          "base_uri": "https://localhost:8080/"
        },
        "id": "n_cPh9HUEUsy",
        "outputId": "d989a466-c87c-4de9-9c33-8a7a212cee41"
      },
      "execution_count": null,
      "outputs": [
        {
          "output_type": "execute_result",
          "data": {
            "text/plain": [
              "OrderedDict([('weights', tensor([0.4920])), ('bias', tensor([0.3848]))])"
            ]
          },
          "metadata": {},
          "execution_count": 444
        }
      ]
    },
    {
      "cell_type": "code",
      "source": [
        "with torch.inference_mode():\n",
        "  y_preds_new = model_0(X_test)\n"
      ],
      "metadata": {
        "id": "qFWfPep0EUvn"
      },
      "execution_count": null,
      "outputs": []
    },
    {
      "cell_type": "code",
      "source": [
        "plot_predictions(predictions=y_preds)"
      ],
      "metadata": {
        "colab": {
          "base_uri": "https://localhost:8080/",
          "height": 430
        },
        "id": "M9U9ZcJPmQOe",
        "outputId": "615343de-efa9-4957-b5d5-8a9dd4c5efbd"
      },
      "execution_count": null,
      "outputs": [
        {
          "output_type": "display_data",
          "data": {
            "text/plain": [
              "<Figure size 640x480 with 1 Axes>"
            ],
            "image/png": "[encoded data removed]"
          },
          "metadata": {}
        }
      ]
    },
    {
      "cell_type": "code",
      "source": [
        "plot_predictions(predictions=y_preds_new)"
      ],
      "metadata": {
        "colab": {
          "base_uri": "https://localhost:8080/",
          "height": 430
        },
        "id": "9itYJ5EsEUyh",
        "outputId": "8434e56d-129d-44a4-8c0c-b9f4f56813a2"
      },
      "execution_count": null,
      "outputs": [
        {
          "output_type": "display_data",
          "data": {
            "text/plain": [
              "<Figure size 640x480 with 1 Axes>"
            ],
            "image/png": "[encoded data removed]"
          },
          "metadata": {}
        }
      ]
    },
    {
      "cell_type": "code",
      "source": [],
      "metadata": {
        "id": "ITGb-kn8EU3S"
      },
      "execution_count": null,
      "outputs": []
    },
    {
      "cell_type": "code",
      "source": [],
      "metadata": {
        "id": "gtNIB9aGEU7F"
      },
      "execution_count": null,
      "outputs": []
    },
    {
      "cell_type": "code",
      "source": [],
      "metadata": {
        "id": "Xvo9ygFaEU-n"
      },
      "execution_count": null,
      "outputs": []
    },
    {
      "cell_type": "code",
      "source": [],
      "metadata": {
        "id": "cr_fdNlJkGgN"
      },
      "execution_count": null,
      "outputs": []
    },
    {
      "cell_type": "code",
      "source": [],
      "metadata": {
        "id": "MT0tDKo5kGir"
      },
      "execution_count": null,
      "outputs": []
    },
    {
      "cell_type": "code",
      "source": [],
      "metadata": {
        "id": "SC4mSWsokGky"
      },
      "execution_count": null,
      "outputs": []
    },
    {
      "cell_type": "code",
      "source": [],
      "metadata": {
        "id": "r-KHsKCrkGnO"
      },
      "execution_count": null,
      "outputs": []
    },
    {
      "cell_type": "code",
      "source": [],
      "metadata": {
        "id": "Tp-XeYkIA_ex"
      },
      "execution_count": null,
      "outputs": []
    },
    {
      "cell_type": "code",
      "source": [],
      "metadata": {
        "id": "tMhihgU1A_lW"
      },
      "execution_count": null,
      "outputs": []
    },
    {
      "cell_type": "code",
      "source": [],
      "metadata": {
        "id": "IVCaZ1_0A_oE"
      },
      "execution_count": null,
      "outputs": []
    },
    {
      "cell_type": "code",
      "source": [],
      "metadata": {
        "id": "cAd8u_5iA_tb"
      },
      "execution_count": null,
      "outputs": []
    },
    {
      "cell_type": "code",
      "source": [],
      "metadata": {
        "id": "If6Fuc_pA_wU"
      },
      "execution_count": null,
      "outputs": []
    }
  ]
}