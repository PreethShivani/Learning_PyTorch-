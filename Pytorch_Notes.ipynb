{
  "nbformat": 4,
  "nbformat_minor": 0,
  "metadata": {
    "colab": {
      "provenance": []
    },
    "kernelspec": {
      "name": "python3",
      "display_name": "Python 3"
    },
    "language_info": {
      "name": "python"
    }
  },
  "cells": [
    {
      "cell_type": "code",
      "execution_count": null,
      "metadata": {
        "colab": {
          "base_uri": "https://localhost:8080/"
        },
        "id": "IwWR4MXMUr03",
        "outputId": "3c9ac3e1-25a5-4da8-99a5-1841101ec845"
      },
      "outputs": [
        {
          "output_type": "stream",
          "name": "stdout",
          "text": [
            "2.6.0+cu124\n"
          ]
        }
      ],
      "source": [
        "import torch\n",
        "import pandas as pd\n",
        "import numpy as np\n",
        "import matplotlib.pyplot as plt\n",
        "print(torch.__version__)\n"
      ]
    },
    {
      "cell_type": "code",
      "source": [
        "# To create tensors we use 'torch.tensor'\n",
        "scalar = torch.tensor(7)\n",
        "scalar\n"
      ],
      "metadata": {
        "colab": {
          "base_uri": "https://localhost:8080/"
        },
        "id": "Hq69TlW1Vkyo",
        "outputId": "bdef3132-16b0-4c19-938a-52359141d502"
      },
      "execution_count": null,
      "outputs": [
        {
          "output_type": "execute_result",
          "data": {
            "text/plain": [
              "tensor(7)"
            ]
          },
          "metadata": {},
          "execution_count": 376
        }
      ]
    },
    {
      "cell_type": "code",
      "source": [
        "scalar.ndim  ## dimensions of a scalar is 0\n"
      ],
      "metadata": {
        "colab": {
          "base_uri": "https://localhost:8080/"
        },
        "id": "gsEUAWPoVk1Y",
        "outputId": "80f56809-7b31-42cc-9f06-e8d020c06833"
      },
      "execution_count": null,
      "outputs": [
        {
          "output_type": "execute_result",
          "data": {
            "text/plain": [
              "0"
            ]
          },
          "metadata": {},
          "execution_count": 377
        }
      ]
    },
    {
      "cell_type": "code",
      "source": [
        "## get tensor as a python int\n",
        "scalar.item()"
      ],
      "metadata": {
        "colab": {
          "base_uri": "https://localhost:8080/"
        },
        "id": "Q8Lu9dxPVk7q",
        "outputId": "23df7002-67e6-4afa-c81e-fc85f19d3cd2"
      },
      "execution_count": null,
      "outputs": [
        {
          "output_type": "execute_result",
          "data": {
            "text/plain": [
              "7"
            ]
          },
          "metadata": {},
          "execution_count": 378
        }
      ]
    },
    {
      "cell_type": "code",
      "source": [
        "vector = torch.tensor([7,7])\n",
        "vector\n"
      ],
      "metadata": {
        "colab": {
          "base_uri": "https://localhost:8080/"
        },
        "id": "h0mllC-baMDb",
        "outputId": "d0b07e3f-8dfe-403d-a513-671f8bc97f47"
      },
      "execution_count": null,
      "outputs": [
        {
          "output_type": "execute_result",
          "data": {
            "text/plain": [
              "tensor([7, 7])"
            ]
          },
          "metadata": {},
          "execution_count": 379
        }
      ]
    },
    {
      "cell_type": "code",
      "source": [
        "vector.ndim"
      ],
      "metadata": {
        "colab": {
          "base_uri": "https://localhost:8080/"
        },
        "id": "YWZaRRFDaMGI",
        "outputId": "90e7c812-f042-4f95-dead-9f0e33afe769"
      },
      "execution_count": null,
      "outputs": [
        {
          "output_type": "execute_result",
          "data": {
            "text/plain": [
              "1"
            ]
          },
          "metadata": {},
          "execution_count": 380
        }
      ]
    },
    {
      "cell_type": "code",
      "source": [
        "vector.shape"
      ],
      "metadata": {
        "colab": {
          "base_uri": "https://localhost:8080/"
        },
        "id": "RuS2SZsyayhC",
        "outputId": "ad548386-0e3e-439f-fe42-fa2a671ef1f6"
      },
      "execution_count": null,
      "outputs": [
        {
          "output_type": "execute_result",
          "data": {
            "text/plain": [
              "torch.Size([2])"
            ]
          },
          "metadata": {},
          "execution_count": 381
        }
      ]
    },
    {
      "cell_type": "code",
      "source": [
        "MATRIX = torch.tensor([[6,8],[3,5]])\n",
        "MATRIX"
      ],
      "metadata": {
        "colab": {
          "base_uri": "https://localhost:8080/"
        },
        "id": "AcOihkp4ayjn",
        "outputId": "980e2eee-0bc3-46a3-f291-78ba793fae3b"
      },
      "execution_count": null,
      "outputs": [
        {
          "output_type": "execute_result",
          "data": {
            "text/plain": [
              "tensor([[6, 8],\n",
              "        [3, 5]])"
            ]
          },
          "metadata": {},
          "execution_count": 382
        }
      ]
    },
    {
      "cell_type": "code",
      "source": [
        "MATRIX.ndim"
      ],
      "metadata": {
        "colab": {
          "base_uri": "https://localhost:8080/"
        },
        "id": "wdiYKTC5aymL",
        "outputId": "4d5378af-9914-43e1-f958-cbee378273a8"
      },
      "execution_count": null,
      "outputs": [
        {
          "output_type": "execute_result",
          "data": {
            "text/plain": [
              "2"
            ]
          },
          "metadata": {},
          "execution_count": 383
        }
      ]
    },
    {
      "cell_type": "code",
      "source": [
        "MATRIX.shape"
      ],
      "metadata": {
        "colab": {
          "base_uri": "https://localhost:8080/"
        },
        "id": "MAEoKPeh-YnO",
        "outputId": "12ef0f63-e09b-49f2-a37f-d8b96bae7367"
      },
      "execution_count": null,
      "outputs": [
        {
          "output_type": "execute_result",
          "data": {
            "text/plain": [
              "torch.Size([2, 2])"
            ]
          },
          "metadata": {},
          "execution_count": 384
        }
      ]
    },
    {
      "cell_type": "code",
      "source": [
        "MATRIX[0] # 0th element in the matrix"
      ],
      "metadata": {
        "colab": {
          "base_uri": "https://localhost:8080/"
        },
        "id": "XeT7muDsayoo",
        "outputId": "fac372b9-b593-46d6-cdcd-6b70fdd04541"
      },
      "execution_count": null,
      "outputs": [
        {
          "output_type": "execute_result",
          "data": {
            "text/plain": [
              "tensor([6, 8])"
            ]
          },
          "metadata": {},
          "execution_count": 385
        }
      ]
    },
    {
      "cell_type": "code",
      "source": [
        "MATRIX[1] # 1st element in the matrix"
      ],
      "metadata": {
        "colab": {
          "base_uri": "https://localhost:8080/"
        },
        "id": "B8v7Gb0IayrA",
        "outputId": "75b26f6b-c9d1-4d61-cb22-38eac0489070"
      },
      "execution_count": null,
      "outputs": [
        {
          "output_type": "execute_result",
          "data": {
            "text/plain": [
              "tensor([3, 5])"
            ]
          },
          "metadata": {},
          "execution_count": 386
        }
      ]
    },
    {
      "cell_type": "code",
      "source": [
        "MATRIX.shape"
      ],
      "metadata": {
        "colab": {
          "base_uri": "https://localhost:8080/"
        },
        "id": "iriRqW1faytz",
        "outputId": "21836829-f7ed-4e18-a1ed-88f7ddfc280a"
      },
      "execution_count": null,
      "outputs": [
        {
          "output_type": "execute_result",
          "data": {
            "text/plain": [
              "torch.Size([2, 2])"
            ]
          },
          "metadata": {},
          "execution_count": 387
        }
      ]
    },
    {
      "cell_type": "code",
      "source": [
        "TENSOR = torch.tensor([[[1,3,4,6],\n",
        "                        [4,7,8,2],\n",
        "                        [7,6,5,1]]])\n",
        "TENSOR"
      ],
      "metadata": {
        "id": "l_unsdJ0bVkD",
        "colab": {
          "base_uri": "https://localhost:8080/"
        },
        "outputId": "73355f68-b3a1-45d6-b5fe-fd445a3302c3"
      },
      "execution_count": null,
      "outputs": [
        {
          "output_type": "execute_result",
          "data": {
            "text/plain": [
              "tensor([[[1, 3, 4, 6],\n",
              "         [4, 7, 8, 2],\n",
              "         [7, 6, 5, 1]]])"
            ]
          },
          "metadata": {},
          "execution_count": 388
        }
      ]
    },
    {
      "cell_type": "code",
      "source": [
        "TENSOR.ndim"
      ],
      "metadata": {
        "colab": {
          "base_uri": "https://localhost:8080/"
        },
        "id": "khXnVvwccO9O",
        "outputId": "b4ed2613-1463-490e-9720-0fb12ddaf60a"
      },
      "execution_count": null,
      "outputs": [
        {
          "output_type": "execute_result",
          "data": {
            "text/plain": [
              "3"
            ]
          },
          "metadata": {},
          "execution_count": 389
        }
      ]
    },
    {
      "cell_type": "code",
      "source": [
        "TENSOR.shape"
      ],
      "metadata": {
        "colab": {
          "base_uri": "https://localhost:8080/"
        },
        "id": "-R_eFXZEcHep",
        "outputId": "64259de7-c75d-4315-82c1-c49dc9fd716a"
      },
      "execution_count": null,
      "outputs": [
        {
          "output_type": "execute_result",
          "data": {
            "text/plain": [
              "torch.Size([1, 3, 4])"
            ]
          },
          "metadata": {},
          "execution_count": 390
        }
      ]
    },
    {
      "cell_type": "markdown",
      "source": [
        " **Scalar , vector uses lower case variables.\n",
        "    MATRIX and TENSOR uses UPPER CASE variables**"
      ],
      "metadata": {
        "id": "bIGUpZLqdjlG"
      }
    },
    {
      "cell_type": "markdown",
      "source": [
        "**RANDOM NUMBERS**"
      ],
      "metadata": {
        "id": "ANzF1rd6id20"
      }
    },
    {
      "cell_type": "markdown",
      "source": [
        "Random tensors are important because the way many neural networks learn is that they start with tensors full of random numbers and then adjust those random numbers in a better way to represent the data.\n",
        "\n",
        "It goes like\n",
        "\n",
        "Start with random numbers -> look at the data -> update random numbers -> look at the data ->update random numbers\n",
        "\n",
        "\n",
        "Torch random tensors - https://docs.pytorch.org/docs/stable/generated/torch.rand.html"
      ],
      "metadata": {
        "id": "3TBi6__Fib4W"
      }
    },
    {
      "cell_type": "code",
      "source": [
        "# Create a random tensor of size (3,4)\n",
        "random_tensor = torch.rand(3,4)\n",
        "random_tensor"
      ],
      "metadata": {
        "colab": {
          "base_uri": "https://localhost:8080/"
        },
        "id": "zNrV09Y6eNZZ",
        "outputId": "6a014e7a-3503-4b72-c476-82db9b1b4cde"
      },
      "execution_count": null,
      "outputs": [
        {
          "output_type": "execute_result",
          "data": {
            "text/plain": [
              "tensor([[0.3705, 0.9499, 0.7892, 0.6642],\n",
              "        [0.3929, 0.0548, 0.3316, 0.1379],\n",
              "        [0.0513, 0.5437, 0.6872, 0.5122]])"
            ]
          },
          "metadata": {},
          "execution_count": 391
        }
      ]
    },
    {
      "cell_type": "code",
      "source": [
        "random_tensor.ndim"
      ],
      "metadata": {
        "colab": {
          "base_uri": "https://localhost:8080/"
        },
        "id": "xlT_oT8neNe_",
        "outputId": "aacb6f47-da18-4647-90c5-139e6a1dc467"
      },
      "execution_count": null,
      "outputs": [
        {
          "output_type": "execute_result",
          "data": {
            "text/plain": [
              "2"
            ]
          },
          "metadata": {},
          "execution_count": 392
        }
      ]
    },
    {
      "cell_type": "markdown",
      "source": [
        "**Zeros and ones**"
      ],
      "metadata": {
        "id": "7p49vbR_pxFt"
      }
    },
    {
      "cell_type": "code",
      "source": [
        "Zeros = torch.zeros(3,4)\n",
        "Zeros\n"
      ],
      "metadata": {
        "colab": {
          "base_uri": "https://localhost:8080/"
        },
        "id": "JAH4RG95eNiH",
        "outputId": "da4922a0-005b-49a3-cc5f-230f61438b19"
      },
      "execution_count": null,
      "outputs": [
        {
          "output_type": "execute_result",
          "data": {
            "text/plain": [
              "tensor([[0., 0., 0., 0.],\n",
              "        [0., 0., 0., 0.],\n",
              "        [0., 0., 0., 0.]])"
            ]
          },
          "metadata": {},
          "execution_count": 393
        }
      ]
    },
    {
      "cell_type": "code",
      "source": [
        "Ones = torch.ones(5,3)\n",
        "Ones"
      ],
      "metadata": {
        "colab": {
          "base_uri": "https://localhost:8080/"
        },
        "id": "fWkmPGnVbVsn",
        "outputId": "46d21933-9631-45c6-c6e6-7322e8188257"
      },
      "execution_count": null,
      "outputs": [
        {
          "output_type": "execute_result",
          "data": {
            "text/plain": [
              "tensor([[1., 1., 1.],\n",
              "        [1., 1., 1.],\n",
              "        [1., 1., 1.],\n",
              "        [1., 1., 1.],\n",
              "        [1., 1., 1.]])"
            ]
          },
          "metadata": {},
          "execution_count": 394
        }
      ]
    },
    {
      "cell_type": "code",
      "source": [
        "### We can multiply these tensors\n",
        "random_tensor * Zeros"
      ],
      "metadata": {
        "colab": {
          "base_uri": "https://localhost:8080/"
        },
        "id": "SnAdd6MXaMIb",
        "outputId": "e194d435-bb11-463c-d699-004a55f9ec91"
      },
      "execution_count": null,
      "outputs": [
        {
          "output_type": "execute_result",
          "data": {
            "text/plain": [
              "tensor([[0., 0., 0., 0.],\n",
              "        [0., 0., 0., 0.],\n",
              "        [0., 0., 0., 0.]])"
            ]
          },
          "metadata": {},
          "execution_count": 395
        }
      ]
    },
    {
      "cell_type": "code",
      "source": [
        "Ones.dtype  ## to check data type of tensors"
      ],
      "metadata": {
        "colab": {
          "base_uri": "https://localhost:8080/"
        },
        "id": "aJBs8M-rqVnV",
        "outputId": "e09cc21f-7dba-4f5f-a374-e8c6aef9fd12"
      },
      "execution_count": null,
      "outputs": [
        {
          "output_type": "execute_result",
          "data": {
            "text/plain": [
              "torch.float32"
            ]
          },
          "metadata": {},
          "execution_count": 396
        }
      ]
    },
    {
      "cell_type": "markdown",
      "source": [
        "***Creating range of tensors and tensors-like***"
      ],
      "metadata": {
        "id": "teJco-gQ03zr"
      }
    },
    {
      "cell_type": "code",
      "source": [
        "torch.range(0,10)"
      ],
      "metadata": {
        "id": "qhBB-ugTrd3V",
        "colab": {
          "base_uri": "https://localhost:8080/"
        },
        "outputId": "75ee92c9-b215-48d9-b789-9e0d6b58ec2d"
      },
      "execution_count": null,
      "outputs": [
        {
          "output_type": "stream",
          "name": "stderr",
          "text": [
            "/tmp/ipython-input-397-497691777.py:1: UserWarning: torch.range is deprecated and will be removed in a future release because its behavior is inconsistent with Python's range builtin. Instead, use torch.arange, which produces values in [start, end).\n",
            "  torch.range(0,10)\n"
          ]
        },
        {
          "output_type": "execute_result",
          "data": {
            "text/plain": [
              "tensor([ 0.,  1.,  2.,  3.,  4.,  5.,  6.,  7.,  8.,  9., 10.])"
            ]
          },
          "metadata": {},
          "execution_count": 397
        }
      ]
    },
    {
      "cell_type": "code",
      "source": [
        "one_to_nine = torch.arange(start=0,end=100,step=15)\n",
        "one_to_nine"
      ],
      "metadata": {
        "id": "bf18mJtsrd6h",
        "colab": {
          "base_uri": "https://localhost:8080/"
        },
        "outputId": "51eed7da-a2a2-40cc-add6-47c3e2ff6fb9"
      },
      "execution_count": null,
      "outputs": [
        {
          "output_type": "execute_result",
          "data": {
            "text/plain": [
              "tensor([ 0, 15, 30, 45, 60, 75, 90])"
            ]
          },
          "metadata": {},
          "execution_count": 398
        }
      ]
    },
    {
      "cell_type": "code",
      "source": [
        "## Tensors-Like  If you want to create a tensor in a shape of other tensor\n",
        "new_tensor = torch.zeros_like(input =one_to_nine)\n",
        "new_tensor"
      ],
      "metadata": {
        "id": "ZnftawN_rd-K",
        "colab": {
          "base_uri": "https://localhost:8080/"
        },
        "outputId": "dbe5d251-98a9-49e0-f7b1-b7f85fe977ea"
      },
      "execution_count": null,
      "outputs": [
        {
          "output_type": "execute_result",
          "data": {
            "text/plain": [
              "tensor([0, 0, 0, 0, 0, 0, 0])"
            ]
          },
          "metadata": {},
          "execution_count": 399
        }
      ]
    },
    {
      "cell_type": "markdown",
      "source": [
        "**TENSOR DATATYPES**\n",
        "\n",
        "**Note** : Tensor datatypes is one of the 3 big errors you will face in PyTorch and DeepLearning\n",
        "\n",
        "1.Tensors not in right datatype (**Some times different data type might not throw an error but this is something we should always take into consideration**)\n",
        "\n",
        "2.Tensors not in right shape (**If we multiply or add two tensors with different shape we will run into error**)\n",
        "\n",
        "3.Tensors not in right device (**If we do anything with two tensors but both are in different devices like CPU, GPU then its an error**)"
      ],
      "metadata": {
        "id": "VZRyeusM4IBa"
      }
    },
    {
      "cell_type": "code",
      "source": [
        "float_32_tensor = torch.tensor ([3.0,4.0,7.0],\n",
        "                                dtype= None,\n",
        "                                device=None,\n",
        "                                requires_grad=False)"
      ],
      "metadata": {
        "id": "RUckAr84qVps"
      },
      "execution_count": null,
      "outputs": []
    },
    {
      "cell_type": "code",
      "source": [
        "float_32_tensor.dtype"
      ],
      "metadata": {
        "id": "Ot7FKMMdqVsT",
        "colab": {
          "base_uri": "https://localhost:8080/"
        },
        "outputId": "0ce44c08-7c83-46dd-9df1-8a826e8e4b9c"
      },
      "execution_count": null,
      "outputs": [
        {
          "output_type": "execute_result",
          "data": {
            "text/plain": [
              "torch.float32"
            ]
          },
          "metadata": {},
          "execution_count": 401
        }
      ]
    },
    {
      "cell_type": "code",
      "source": [
        "# Changing the tensor datatype\n",
        "float_16_tensor = float_32_tensor.type(torch.float64) #simply use the type() function\n",
        "float_16_tensor"
      ],
      "metadata": {
        "id": "BQwrRZ-zqVuw",
        "colab": {
          "base_uri": "https://localhost:8080/"
        },
        "outputId": "1444da55-ad77-44b3-c3ff-c3c88d2bac84"
      },
      "execution_count": null,
      "outputs": [
        {
          "output_type": "execute_result",
          "data": {
            "text/plain": [
              "tensor([3., 4., 7.], dtype=torch.float64)"
            ]
          },
          "metadata": {},
          "execution_count": 402
        }
      ]
    },
    {
      "cell_type": "markdown",
      "source": [
        "**FINDING OUT INFORMATION ABOUT THE TENSOR**\n",
        "\n",
        "Just use the inbuilt functions to get information about each tensors"
      ],
      "metadata": {
        "id": "roDtolnbR5m4"
      }
    },
    {
      "cell_type": "code",
      "source": [
        "print(f\"Device tensor is on is : {float_16_tensor.device}\")\n",
        "print(f\"Shape of the tensor is : {float_16_tensor.shape}\")"
      ],
      "metadata": {
        "colab": {
          "base_uri": "https://localhost:8080/"
        },
        "id": "PDaevz5CDkAJ",
        "outputId": "95b143b3-f90d-42d8-92d3-773e77e29221"
      },
      "execution_count": null,
      "outputs": [
        {
          "output_type": "stream",
          "name": "stdout",
          "text": [
            "Device tensor is on is : cpu\n",
            "Shape of the tensor is : torch.Size([3])\n"
          ]
        }
      ]
    },
    {
      "cell_type": "markdown",
      "source": [
        "**MANIPULATING TENSORS (TENSOR OPERATIONS)**\n",
        "\n",
        "\n",
        "\n",
        "*   1.Addition\n",
        "*  2.Subtraction\n",
        "*   3.Multiplication (Element-wise)\n",
        "*   4.Division\n",
        "*  5.Matrix Multiplication"
      ],
      "metadata": {
        "id": "WaMbjB3d3_F6"
      }
    },
    {
      "cell_type": "code",
      "source": [
        "##Element-wise Multiplication\n",
        "new_tensor = torch.tensor([1,2,3])\n",
        "print (new_tensor,\"*\",new_tensor)\n",
        "print(f\"Answer : {new_tensor*new_tensor}\")  # Each element is multiplied with each element\n"
      ],
      "metadata": {
        "id": "AcJFwkteHBw_",
        "colab": {
          "base_uri": "https://localhost:8080/"
        },
        "outputId": "5b519d6d-c91c-4568-aa91-b65ecdb676f9"
      },
      "execution_count": null,
      "outputs": [
        {
          "output_type": "stream",
          "name": "stdout",
          "text": [
            "tensor([1, 2, 3]) * tensor([1, 2, 3])\n",
            "Answer : tensor([1, 4, 9])\n"
          ]
        }
      ]
    },
    {
      "cell_type": "code",
      "source": [
        "#Matric Multiplication\n",
        "torch.matmul(new_tensor,new_tensor)"
      ],
      "metadata": {
        "colab": {
          "base_uri": "https://localhost:8080/"
        },
        "id": "rRAwzqvQ2cCA",
        "outputId": "a5eb11c3-0f93-4551-fe76-1a7247071873"
      },
      "execution_count": null,
      "outputs": [
        {
          "output_type": "execute_result",
          "data": {
            "text/plain": [
              "tensor(14)"
            ]
          },
          "metadata": {},
          "execution_count": 405
        }
      ]
    },
    {
      "cell_type": "markdown",
      "source": [
        "Two main ways of performing multiplication in neural networks and deep learning are **Element-wise Multiplication** and **Matrix Multiplication (Dot product)**\n",
        "\n",
        "There are two main rules should be satisfied while performing matrix multiplication:\n",
        "\n",
        "1. The **The inner dimensions must match**\n",
        "\n",
        "*  (3,2) @ (2,3) will work      @ means multiplication\n",
        "*  (2,3) @ (2,3) will not work\n",
        "*  (2,3) @ (3,2) will work\n",
        "\n",
        "2. The resulting matrix has the shape of the **outer dimension**\n",
        "  \n",
        "*   (3,2) @ (2,3) -> The resulting matrix will have (3,3) dimension\n",
        "*   (2,3) @ (3,2) -> The resulting matrix will have (2,2) dimension\n"
      ],
      "metadata": {
        "id": "xwqhUjXE-r7a"
      }
    },
    {
      "cell_type": "markdown",
      "source": [
        "**# RULE - 1**\n",
        "\n",
        "torch.matmul(torch.rand(3,3),torch.rand(2,3))\n",
        "\n",
        "**This will give an error coz inner dimensions doesn't match**"
      ],
      "metadata": {
        "id": "JS5GW4q6BBZo"
      }
    },
    {
      "cell_type": "code",
      "source": [
        "#RULE - 2\n",
        "torch.matmul(torch.rand(3,2),torch.rand(2,3)) # This will give a 3,3 matrix"
      ],
      "metadata": {
        "colab": {
          "base_uri": "https://localhost:8080/"
        },
        "id": "wp8DSF1-2cFD",
        "outputId": "04d7298c-b210-441b-a0ee-24f78b11859f"
      },
      "execution_count": null,
      "outputs": [
        {
          "output_type": "execute_result",
          "data": {
            "text/plain": [
              "tensor([[0.8799, 0.6633, 0.2985],\n",
              "        [0.4443, 0.4424, 0.8164],\n",
              "        [0.7543, 0.6614, 0.8303]])"
            ]
          },
          "metadata": {},
          "execution_count": 406
        }
      ]
    },
    {
      "cell_type": "markdown",
      "source": [
        "**MATRIX - TRANSPOSE**\n",
        "\n",
        "When we have different inner dimensions, matrix multiplication is not possible.\n",
        "So, we **transpose the matrix** and do the matrix multiplication."
      ],
      "metadata": {
        "id": "mn0dbIXfHoy3"
      }
    },
    {
      "cell_type": "code",
      "source": [
        "tensor_A = torch.tensor([[1,2],\n",
        "                        [3,4],\n",
        "                        [5,6]])\n",
        "tensor_B = torch.tensor([[1,2,3],\n",
        "                        [3,4,5]])\n",
        "# Here tensor_A is a (3,2) matrix and tensor_B is a (3,3) matrix\n",
        "\n",
        "# The inner dimensions does not match, so we transpose\n",
        "\n",
        "tensor_B = tensor_B.T\n",
        "\n",
        "# After transposing it becomes(2,3) matrix\n",
        "\n",
        "print(f\"Shape of tensor_A : {tensor_A.shape}\")\n",
        "print(f\"Shape of tensor_A : {tensor_B.T.shape}\")\n",
        "\n",
        "print(f\"\\n Output : {torch.mm(tensor_A,tensor_B.T)}\")  ## torch.mm is alias for torch.matmul"
      ],
      "metadata": {
        "colab": {
          "base_uri": "https://localhost:8080/"
        },
        "id": "aPDCELSx2cIC",
        "outputId": "14656678-5bdc-4ea5-d7a1-adf2d42b6c4c"
      },
      "execution_count": null,
      "outputs": [
        {
          "output_type": "stream",
          "name": "stdout",
          "text": [
            "Shape of tensor_A : torch.Size([3, 2])\n",
            "Shape of tensor_A : torch.Size([2, 3])\n",
            "\n",
            " Output : tensor([[ 7, 10, 13],\n",
            "        [15, 22, 29],\n",
            "        [23, 34, 45]])\n"
          ]
        }
      ]
    },
    {
      "cell_type": "markdown",
      "source": [
        "**FINDING MIN,MAX,MEAN,SUM - TENSOR AGGREGATION**"
      ],
      "metadata": {
        "id": "XXw30D4ghFK-"
      }
    },
    {
      "cell_type": "code",
      "source": [
        "x=torch.arange(1,100,10)\n",
        "x"
      ],
      "metadata": {
        "colab": {
          "base_uri": "https://localhost:8080/"
        },
        "id": "fKMDLozT2cLR",
        "outputId": "695d8a2f-5e4c-4052-b725-77fce790d2ce"
      },
      "execution_count": null,
      "outputs": [
        {
          "output_type": "execute_result",
          "data": {
            "text/plain": [
              "tensor([ 1, 11, 21, 31, 41, 51, 61, 71, 81, 91])"
            ]
          },
          "metadata": {},
          "execution_count": 408
        }
      ]
    },
    {
      "cell_type": "code",
      "source": [
        "print(f\" Minimum value in x : {torch.min(x)}\") # also we can use x.min()\n",
        "print(f\" Maximum value in x : {torch.max(x)}\") # also we can use x.max()"
      ],
      "metadata": {
        "colab": {
          "base_uri": "https://localhost:8080/"
        },
        "id": "9gvKRGIe2cX2",
        "outputId": "2d01705e-ea5e-4260-97b3-ca83e661006c"
      },
      "execution_count": null,
      "outputs": [
        {
          "output_type": "stream",
          "name": "stdout",
          "text": [
            " Minimum value in x : 1\n",
            " Maximum value in x : 91\n"
          ]
        }
      ]
    },
    {
      "cell_type": "code",
      "source": [
        "#First we need to change the datatype of x\n",
        "# torch.mean() function works with float32 tensor datatype\n",
        "print(f\"Datatype of x :{ x.dtype}\")\n",
        "x_1 = x.type(torch.float32) # Here we are changing the datatype\n",
        "print(f\" \\nConverted datatype of x :{ x_1.dtype}\")\n",
        "print(f\" \\nMean/Average value of x : {torch.mean(x_1)}\")  # also we can use x.mean()"
      ],
      "metadata": {
        "id": "9FLoZuzaiX5T",
        "colab": {
          "base_uri": "https://localhost:8080/"
        },
        "outputId": "f7f5807b-1265-4cf8-b5a8-14e22437bf0c"
      },
      "execution_count": null,
      "outputs": [
        {
          "output_type": "stream",
          "name": "stdout",
          "text": [
            "Datatype of x :torch.int64\n",
            " \n",
            "Converted datatype of x :torch.float32\n",
            " \n",
            "Mean/Average value of x : 46.0\n"
          ]
        }
      ]
    },
    {
      "cell_type": "markdown",
      "source": [
        "**Finding the position of the arguments**"
      ],
      "metadata": {
        "id": "Pko7zVGtkX-a"
      }
    },
    {
      "cell_type": "code",
      "source": [
        "x=torch.arange(1,100,10)\n",
        "x"
      ],
      "metadata": {
        "id": "MQtykteniX8J",
        "colab": {
          "base_uri": "https://localhost:8080/"
        },
        "outputId": "55158f7c-e61b-4181-8c53-034d1ed4d98b"
      },
      "execution_count": null,
      "outputs": [
        {
          "output_type": "execute_result",
          "data": {
            "text/plain": [
              "tensor([ 1, 11, 21, 31, 41, 51, 61, 71, 81, 91])"
            ]
          },
          "metadata": {},
          "execution_count": 411
        }
      ]
    },
    {
      "cell_type": "code",
      "source": [
        "print(f\" Position of the maximum value in x : {torch.argmax(x)}\") # also we can use x.argmax()\n",
        "print(f\" Position of the minimum value in x : {torch.argmin(x)}\") # also we can use x.argmin()\n"
      ],
      "metadata": {
        "id": "YDCWPm__iX-w",
        "colab": {
          "base_uri": "https://localhost:8080/"
        },
        "outputId": "832aec3a-ca74-457a-8ed0-06cb8c0317db"
      },
      "execution_count": null,
      "outputs": [
        {
          "output_type": "stream",
          "name": "stdout",
          "text": [
            " Position of the maximum value in x : 9\n",
            " Position of the minimum value in x : 0\n"
          ]
        }
      ]
    },
    {
      "cell_type": "markdown",
      "source": [
        "# Reshaping,stacking,squeezing and unsqueezing tensors\n",
        "\n",
        "\n",
        "\n",
        "\n",
        "*  Reshaping - reshapes an input tensor to a defined shape\n",
        "*  View - Returns a view of an input tensor of a certain shape but reatins the same memory as original tensor\n",
        "*    Stacking - Combine multiple tensors on top of eachother (vstack) or side by side (hstack)\n",
        "\n",
        "*   Squeeze - removes all '1' dimensions from a tensor\n",
        "*   Unsqueeze - Adds '1' dimension to a tensor\n",
        "\n",
        "*   Permute - Return a view of the input with dimensions permuted (swapped) in a certain way\n",
        "\n",
        "\n",
        "So, Basically manipulating the tensors\n",
        "\n"
      ],
      "metadata": {
        "id": "pIx_63zIuEjn"
      }
    },
    {
      "cell_type": "code",
      "source": [
        " # create a new tensor\n",
        "import torch\n",
        "x=torch.arange(1.,10.)\n",
        "x,x.shape"
      ],
      "metadata": {
        "id": "_GjSdf3qHBz-",
        "colab": {
          "base_uri": "https://localhost:8080/"
        },
        "outputId": "40570b2c-0959-45f9-9077-80ad351b86ea"
      },
      "execution_count": null,
      "outputs": [
        {
          "output_type": "execute_result",
          "data": {
            "text/plain": [
              "(tensor([1., 2., 3., 4., 5., 6., 7., 8., 9.]), torch.Size([9]))"
            ]
          },
          "metadata": {},
          "execution_count": 413
        }
      ]
    },
    {
      "cell_type": "code",
      "source": [
        "x_reshaped = x.reshape(9,1) # this will only work if the diemensions are direct multiples of the original tensor\n",
        "x_reshaped,x_reshaped.shape # the resulting shape is the original tensor's shape"
      ],
      "metadata": {
        "colab": {
          "base_uri": "https://localhost:8080/"
        },
        "id": "oR6Kc9BLYkwT",
        "outputId": "c051703b-15dc-4d71-cfe4-949e308a9273"
      },
      "execution_count": null,
      "outputs": [
        {
          "output_type": "execute_result",
          "data": {
            "text/plain": [
              "(tensor([[1.],\n",
              "         [2.],\n",
              "         [3.],\n",
              "         [4.],\n",
              "         [5.],\n",
              "         [6.],\n",
              "         [7.],\n",
              "         [8.],\n",
              "         [9.]]),\n",
              " torch.Size([9, 1]))"
            ]
          },
          "metadata": {},
          "execution_count": 414
        }
      ]
    },
    {
      "cell_type": "code",
      "source": [
        "z=x.view(1,9)\n",
        "print(f\"this is z : {z}\")\n",
        "print(f\"this is x : {x}\") # Both x and z are same now because they both share same memory"
      ],
      "metadata": {
        "colab": {
          "base_uri": "https://localhost:8080/"
        },
        "id": "laTSGnZCYkzs",
        "outputId": "a5ca03af-91bf-4595-ecad-1919958cbac2"
      },
      "execution_count": null,
      "outputs": [
        {
          "output_type": "stream",
          "name": "stdout",
          "text": [
            "this is z : tensor([[1., 2., 3., 4., 5., 6., 7., 8., 9.]])\n",
            "this is x : tensor([1., 2., 3., 4., 5., 6., 7., 8., 9.])\n"
          ]
        }
      ]
    },
    {
      "cell_type": "code",
      "source": [
        "# Stacking tensors on top of eachother (vstack)\n",
        "x_stacked=torch.hstack([x,x,x,x,x,x,x,x,x])\n",
        "x_stacked"
      ],
      "metadata": {
        "id": "W0dLJfmLYk3H",
        "colab": {
          "base_uri": "https://localhost:8080/"
        },
        "outputId": "b136587e-8aa6-4b38-830a-87cbbca936d8"
      },
      "execution_count": null,
      "outputs": [
        {
          "output_type": "execute_result",
          "data": {
            "text/plain": [
              "tensor([1., 2., 3., 4., 5., 6., 7., 8., 9., 1., 2., 3., 4., 5., 6., 7., 8., 9.,\n",
              "        1., 2., 3., 4., 5., 6., 7., 8., 9., 1., 2., 3., 4., 5., 6., 7., 8., 9.,\n",
              "        1., 2., 3., 4., 5., 6., 7., 8., 9., 1., 2., 3., 4., 5., 6., 7., 8., 9.,\n",
              "        1., 2., 3., 4., 5., 6., 7., 8., 9., 1., 2., 3., 4., 5., 6., 7., 8., 9.,\n",
              "        1., 2., 3., 4., 5., 6., 7., 8., 9.])"
            ]
          },
          "metadata": {},
          "execution_count": 416
        }
      ]
    },
    {
      "cell_type": "markdown",
      "source": [
        "A PyTorch tensor's shape defines how data is organized — like its “structure” or “layout.”\n",
        "But if a dimension has size 1, it doesn't add any real data — it’s just like empty wrapping.\n",
        "\n",
        "squeeze() removes these meaningless dimensions."
      ],
      "metadata": {
        "id": "SCX60JuEtY00"
      }
    },
    {
      "cell_type": "code",
      "source": [
        "print(f\"Previous tensor shape : {x_reshaped.shape}\")"
      ],
      "metadata": {
        "colab": {
          "base_uri": "https://localhost:8080/"
        },
        "id": "KsaQ2ZaOgwoS",
        "outputId": "65ead7d3-a274-401e-d4f1-5890bd059351"
      },
      "execution_count": null,
      "outputs": [
        {
          "output_type": "stream",
          "name": "stdout",
          "text": [
            "Previous tensor shape : torch.Size([9, 1])\n"
          ]
        }
      ]
    },
    {
      "cell_type": "code",
      "source": [
        "x_reshaped.squeeze()"
      ],
      "metadata": {
        "colab": {
          "base_uri": "https://localhost:8080/"
        },
        "id": "XCjRi5ulYRBE",
        "outputId": "57a21b2e-b315-450e-91ac-1fa76d73bbad"
      },
      "execution_count": null,
      "outputs": [
        {
          "output_type": "execute_result",
          "data": {
            "text/plain": [
              "tensor([1., 2., 3., 4., 5., 6., 7., 8., 9.])"
            ]
          },
          "metadata": {},
          "execution_count": 418
        }
      ]
    },
    {
      "cell_type": "code",
      "source": [
        "print(f\"Squeezed tensor shape : {x_reshaped.squeeze().shape}\")"
      ],
      "metadata": {
        "colab": {
          "base_uri": "https://localhost:8080/"
        },
        "id": "Pcu8_NxbYRKA",
        "outputId": "874810b0-8aa8-40ef-f3a1-d90dd3d2e2d7"
      },
      "execution_count": null,
      "outputs": [
        {
          "output_type": "stream",
          "name": "stdout",
          "text": [
            "Squeezed tensor shape : torch.Size([9])\n"
          ]
        }
      ]
    },
    {
      "cell_type": "code",
      "source": [
        "# We give parameters in unsqueeze function, the parameter is dim and this decides the position\n",
        "\n",
        "# if we say dim= 0 , '1' will be added at 0th position of the tensor\n",
        "# if we say dim= 1 , '1' will be added at 1st position of the tensor\n",
        "# if we say dim= 2 , '1' will be added at 2nd position of the tensor\n",
        "newyy=torch.rand(3,4)\n",
        "newyy.shape\n"
      ],
      "metadata": {
        "id": "l4apF8onGREA",
        "colab": {
          "base_uri": "https://localhost:8080/"
        },
        "outputId": "2fd9926b-8f4e-4c51-d0ca-93ef178cc4cc"
      },
      "execution_count": null,
      "outputs": [
        {
          "output_type": "execute_result",
          "data": {
            "text/plain": [
              "torch.Size([3, 4])"
            ]
          },
          "metadata": {},
          "execution_count": 420
        }
      ]
    },
    {
      "cell_type": "markdown",
      "source": [
        "If shape is [A, B, C], then:\n",
        "\n",
        "-3 means index 0 → A\n",
        "\n",
        "-2 means index 1 → B\n",
        "\n",
        "-1 means index 2 → C\n",
        "\n",
        "**Here 'dim' literally means the position**"
      ],
      "metadata": {
        "id": "PVmjjph29Gx_"
      }
    },
    {
      "cell_type": "code",
      "source": [
        "print(f\"Unsqueezed newyy shape : {newyy.unsqueeze(dim=-2).shape}\")\n",
        "print(f\"Unsqueezed newyy shape : {newyy.unsqueeze(dim=-1).shape}\")\n",
        "print(f\"Unsqueezed newyy shape : {newyy.unsqueeze(dim=-3).shape}\")"
      ],
      "metadata": {
        "id": "JAuiPB7mGRHF",
        "colab": {
          "base_uri": "https://localhost:8080/"
        },
        "outputId": "9d57e0e5-3e07-411a-9e32-d73433b905f3"
      },
      "execution_count": null,
      "outputs": [
        {
          "output_type": "stream",
          "name": "stdout",
          "text": [
            "Unsqueezed newyy shape : torch.Size([3, 1, 4])\n",
            "Unsqueezed newyy shape : torch.Size([3, 4, 1])\n",
            "Unsqueezed newyy shape : torch.Size([1, 3, 4])\n"
          ]
        }
      ]
    },
    {
      "cell_type": "code",
      "source": [
        "# torch.permute -> This changes the dimensions(i.e Positions)\n",
        "\n",
        "tensy = torch.randn(5,3,2)\n",
        "tensy"
      ],
      "metadata": {
        "id": "bwmdRLxuGRLw",
        "colab": {
          "base_uri": "https://localhost:8080/"
        },
        "outputId": "98e32e9a-7b6d-4b49-b653-9a0a15740966"
      },
      "execution_count": null,
      "outputs": [
        {
          "output_type": "execute_result",
          "data": {
            "text/plain": [
              "tensor([[[-0.4239,  0.6745],\n",
              "         [ 0.2639, -0.2453],\n",
              "         [-0.9004,  0.2850]],\n",
              "\n",
              "        [[-1.1884,  1.2437],\n",
              "         [-1.0652, -0.6124],\n",
              "         [ 0.2942, -1.6012]],\n",
              "\n",
              "        [[-0.1349,  1.7208],\n",
              "         [-1.1490,  1.1407],\n",
              "         [ 1.2066, -1.9752]],\n",
              "\n",
              "        [[-0.7208,  0.6759],\n",
              "         [ 0.2481, -0.7597],\n",
              "         [ 0.4213, -0.3075]],\n",
              "\n",
              "        [[-1.3787,  0.6238],\n",
              "         [-0.2048, -1.9138],\n",
              "         [-1.0335,  0.4070]]])"
            ]
          },
          "metadata": {},
          "execution_count": 422
        }
      ]
    },
    {
      "cell_type": "code",
      "source": [
        "torch.permute(tensy,(2,0,1))"
      ],
      "metadata": {
        "id": "yTi1W9jjGRPA",
        "colab": {
          "base_uri": "https://localhost:8080/"
        },
        "outputId": "9f0c1ada-47ea-4498-d4ab-31a72be8fcb2"
      },
      "execution_count": null,
      "outputs": [
        {
          "output_type": "execute_result",
          "data": {
            "text/plain": [
              "tensor([[[-0.4239,  0.2639, -0.9004],\n",
              "         [-1.1884, -1.0652,  0.2942],\n",
              "         [-0.1349, -1.1490,  1.2066],\n",
              "         [-0.7208,  0.2481,  0.4213],\n",
              "         [-1.3787, -0.2048, -1.0335]],\n",
              "\n",
              "        [[ 0.6745, -0.2453,  0.2850],\n",
              "         [ 1.2437, -0.6124, -1.6012],\n",
              "         [ 1.7208,  1.1407, -1.9752],\n",
              "         [ 0.6759, -0.7597, -0.3075],\n",
              "         [ 0.6238, -1.9138,  0.4070]]])"
            ]
          },
          "metadata": {},
          "execution_count": 423
        }
      ]
    },
    {
      "cell_type": "code",
      "source": [
        "torch.permute(tensy,(2,0,1)).size\n",
        "#tensy = torch.randn(5,3,2)\n",
        "# here after permuting the positions changes (2,5,3) so now we got 2 matrices with 5 rows and 3 columns"
      ],
      "metadata": {
        "id": "RhVnWCkRHB22",
        "colab": {
          "base_uri": "https://localhost:8080/"
        },
        "outputId": "a6c04acb-7e3a-4144-ba87-690413b03561"
      },
      "execution_count": null,
      "outputs": [
        {
          "output_type": "execute_result",
          "data": {
            "text/plain": [
              "<function Tensor.size>"
            ]
          },
          "metadata": {},
          "execution_count": 424
        }
      ]
    },
    {
      "cell_type": "code",
      "source": [
        "tensy[0,0,0] = 8928932\n",
        "permuted =torch.permute(tensy,(2,0,1))\n",
        "permuted[0,0,0] # the value 8928932 is now assigned to permuted also\n"
      ],
      "metadata": {
        "id": "6dIRvnxNDkDH",
        "colab": {
          "base_uri": "https://localhost:8080/"
        },
        "outputId": "1bc0f77b-2d36-4688-b80e-d68682ac20e5"
      },
      "execution_count": null,
      "outputs": [
        {
          "output_type": "execute_result",
          "data": {
            "text/plain": [
              "tensor(8928932.)"
            ]
          },
          "metadata": {},
          "execution_count": 425
        }
      ]
    },
    {
      "cell_type": "code",
      "source": [
        "#Indexing in Pytorch is same like indexing in Numpy\n",
        "tensy"
      ],
      "metadata": {
        "id": "eAcHkohJDkGC",
        "colab": {
          "base_uri": "https://localhost:8080/"
        },
        "outputId": "ac09d637-0af2-4df7-fb07-b52d2af239ab"
      },
      "execution_count": null,
      "outputs": [
        {
          "output_type": "execute_result",
          "data": {
            "text/plain": [
              "tensor([[[ 8.9289e+06,  6.7448e-01],\n",
              "         [ 2.6388e-01, -2.4526e-01],\n",
              "         [-9.0042e-01,  2.8495e-01]],\n",
              "\n",
              "        [[-1.1884e+00,  1.2437e+00],\n",
              "         [-1.0652e+00, -6.1235e-01],\n",
              "         [ 2.9419e-01, -1.6012e+00]],\n",
              "\n",
              "        [[-1.3489e-01,  1.7208e+00],\n",
              "         [-1.1490e+00,  1.1407e+00],\n",
              "         [ 1.2066e+00, -1.9752e+00]],\n",
              "\n",
              "        [[-7.2080e-01,  6.7586e-01],\n",
              "         [ 2.4808e-01, -7.5972e-01],\n",
              "         [ 4.2129e-01, -3.0754e-01]],\n",
              "\n",
              "        [[-1.3787e+00,  6.2383e-01],\n",
              "         [-2.0482e-01, -1.9138e+00],\n",
              "         [-1.0335e+00,  4.0704e-01]]])"
            ]
          },
          "metadata": {},
          "execution_count": 426
        }
      ]
    },
    {
      "cell_type": "code",
      "source": [
        "tensy[3][2][0]  # 3rd matrix 2nd position and 0th element"
      ],
      "metadata": {
        "colab": {
          "base_uri": "https://localhost:8080/"
        },
        "id": "MfvL444VSUlM",
        "outputId": "255c76b3-edfe-482b-c6ab-ed3b61e3b340"
      },
      "execution_count": null,
      "outputs": [
        {
          "output_type": "execute_result",
          "data": {
            "text/plain": [
              "tensor(0.4213)"
            ]
          },
          "metadata": {},
          "execution_count": 427
        }
      ]
    },
    {
      "cell_type": "code",
      "source": [
        "tensy[4][1][1]  # 4th matrix 1st position and 0th element\n",
        "# the element is rounded off"
      ],
      "metadata": {
        "colab": {
          "base_uri": "https://localhost:8080/"
        },
        "id": "IXlTw6HxTL3R",
        "outputId": "3288888d-4bdf-43f4-9606-ffd284c192b9"
      },
      "execution_count": null,
      "outputs": [
        {
          "output_type": "execute_result",
          "data": {
            "text/plain": [
              "tensor(-1.9138)"
            ]
          },
          "metadata": {},
          "execution_count": 428
        }
      ]
    },
    {
      "cell_type": "code",
      "source": [
        "#tensy[3][2][3] #index 3 is out of bounds for dimension 0 with size 2"
      ],
      "metadata": {
        "id": "eYk6BEHGSUnn"
      },
      "execution_count": null,
      "outputs": []
    },
    {
      "cell_type": "code",
      "source": [
        " tensor_new =torch.tensor([[[2,4,5],\n",
        "                [6,7,8],\n",
        "                [12,14,1]]])\n",
        " tensor_new"
      ],
      "metadata": {
        "colab": {
          "base_uri": "https://localhost:8080/"
        },
        "id": "D_AaIAAASUsy",
        "outputId": "880cf47a-e788-467f-8c10-8112ab92f058"
      },
      "execution_count": null,
      "outputs": [
        {
          "output_type": "execute_result",
          "data": {
            "text/plain": [
              "tensor([[[ 2,  4,  5],\n",
              "         [ 6,  7,  8],\n",
              "         [12, 14,  1]]])"
            ]
          },
          "metadata": {},
          "execution_count": 430
        }
      ]
    },
    {
      "cell_type": "code",
      "source": [
        "tensor_new [0][0][1]"
      ],
      "metadata": {
        "colab": {
          "base_uri": "https://localhost:8080/"
        },
        "id": "6MW5ZRNJSUvv",
        "outputId": "03ef5e21-bfc2-4a4f-c5fd-ce55f571444c"
      },
      "execution_count": null,
      "outputs": [
        {
          "output_type": "execute_result",
          "data": {
            "text/plain": [
              "tensor(4)"
            ]
          },
          "metadata": {},
          "execution_count": 431
        }
      ]
    },
    {
      "cell_type": "code",
      "source": [
        "tensor_new [0][0][2]"
      ],
      "metadata": {
        "colab": {
          "base_uri": "https://localhost:8080/"
        },
        "id": "7rteTqjUSUyf",
        "outputId": "e9b1c4c5-7196-475e-e7dc-fe5aacec7e94"
      },
      "execution_count": null,
      "outputs": [
        {
          "output_type": "execute_result",
          "data": {
            "text/plain": [
              "tensor(5)"
            ]
          },
          "metadata": {},
          "execution_count": 432
        }
      ]
    }
  ]
}